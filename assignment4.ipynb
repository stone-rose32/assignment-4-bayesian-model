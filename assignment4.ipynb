{
  "nbformat": 4,
  "nbformat_minor": 0,
  "metadata": {
    "colab": {
      "provenance": []
    },
    "kernelspec": {
      "name": "python3",
      "display_name": "Python 3"
    },
    "language_info": {
      "name": "python"
    },
    "widgets": {
      "application/vnd.jupyter.widget-state+json": {
        "54ed4d6ad23f43b88303e5124d102eb8": {
          "model_module": "@jupyter-widgets/output",
          "model_name": "OutputModel",
          "model_module_version": "1.0.0",
          "state": {
            "_dom_classes": [],
            "_model_module": "@jupyter-widgets/output",
            "_model_module_version": "1.0.0",
            "_model_name": "OutputModel",
            "_view_count": null,
            "_view_module": "@jupyter-widgets/output",
            "_view_module_version": "1.0.0",
            "_view_name": "OutputView",
            "layout": "IPY_MODEL_da3d917c6f67452986fe9bddf5499895",
            "msg_id": "",
            "outputs": [
              {
                "output_type": "display_data",
                "data": {
                  "text/plain": "Sampling chain 0, 0 divergences \u001b[32m━━━━━━━━━━━━━━━━━━━━━━━━━━━━━━━━━━━━━━━━\u001b[0m \u001b[35m100%\u001b[0m \u001b[36m0:00:00\u001b[0m / \u001b[33m0:00:58\u001b[0m\n",
                  "text/html": "<pre style=\"white-space:pre;overflow-x:auto;line-height:normal;font-family:Menlo,'DejaVu Sans Mono',consolas,'Courier New',monospace\">Sampling chain 0, 0 divergences <span style=\"color: #008000; text-decoration-color: #008000\">━━━━━━━━━━━━━━━━━━━━━━━━━━━━━━━━━━━━━━━━</span> <span style=\"color: #800080; text-decoration-color: #800080\">100%</span> <span style=\"color: #008080; text-decoration-color: #008080\">0:00:00</span> / <span style=\"color: #808000; text-decoration-color: #808000\">0:00:58</span>\n</pre>\n"
                },
                "metadata": {}
              }
            ]
          }
        },
        "da3d917c6f67452986fe9bddf5499895": {
          "model_module": "@jupyter-widgets/base",
          "model_name": "LayoutModel",
          "model_module_version": "1.2.0",
          "state": {
            "_model_module": "@jupyter-widgets/base",
            "_model_module_version": "1.2.0",
            "_model_name": "LayoutModel",
            "_view_count": null,
            "_view_module": "@jupyter-widgets/base",
            "_view_module_version": "1.2.0",
            "_view_name": "LayoutView",
            "align_content": null,
            "align_items": null,
            "align_self": null,
            "border": null,
            "bottom": null,
            "display": null,
            "flex": null,
            "flex_flow": null,
            "grid_area": null,
            "grid_auto_columns": null,
            "grid_auto_flow": null,
            "grid_auto_rows": null,
            "grid_column": null,
            "grid_gap": null,
            "grid_row": null,
            "grid_template_areas": null,
            "grid_template_columns": null,
            "grid_template_rows": null,
            "height": null,
            "justify_content": null,
            "justify_items": null,
            "left": null,
            "margin": null,
            "max_height": null,
            "max_width": null,
            "min_height": null,
            "min_width": null,
            "object_fit": null,
            "object_position": null,
            "order": null,
            "overflow": null,
            "overflow_x": null,
            "overflow_y": null,
            "padding": null,
            "right": null,
            "top": null,
            "visibility": null,
            "width": null
          }
        },
        "bf6522669bf847c487d400144a0d4b1b": {
          "model_module": "@jupyter-widgets/output",
          "model_name": "OutputModel",
          "model_module_version": "1.0.0",
          "state": {
            "_dom_classes": [],
            "_model_module": "@jupyter-widgets/output",
            "_model_module_version": "1.0.0",
            "_model_name": "OutputModel",
            "_view_count": null,
            "_view_module": "@jupyter-widgets/output",
            "_view_module_version": "1.0.0",
            "_view_name": "OutputView",
            "layout": "IPY_MODEL_a4384eb938b242be86b6d1f14fdd0611",
            "msg_id": "",
            "outputs": [
              {
                "output_type": "display_data",
                "data": {
                  "text/plain": "Sampling chain 1, 0 divergences \u001b[32m━━━━━━━━━━━━━━━━━━━━━━━━━━━━━━━━━━━━━━━━\u001b[0m \u001b[35m100%\u001b[0m \u001b[36m0:00:00\u001b[0m / \u001b[33m0:00:57\u001b[0m\n",
                  "text/html": "<pre style=\"white-space:pre;overflow-x:auto;line-height:normal;font-family:Menlo,'DejaVu Sans Mono',consolas,'Courier New',monospace\">Sampling chain 1, 0 divergences <span style=\"color: #008000; text-decoration-color: #008000\">━━━━━━━━━━━━━━━━━━━━━━━━━━━━━━━━━━━━━━━━</span> <span style=\"color: #800080; text-decoration-color: #800080\">100%</span> <span style=\"color: #008080; text-decoration-color: #008080\">0:00:00</span> / <span style=\"color: #808000; text-decoration-color: #808000\">0:00:57</span>\n</pre>\n"
                },
                "metadata": {}
              }
            ]
          }
        },
        "a4384eb938b242be86b6d1f14fdd0611": {
          "model_module": "@jupyter-widgets/base",
          "model_name": "LayoutModel",
          "model_module_version": "1.2.0",
          "state": {
            "_model_module": "@jupyter-widgets/base",
            "_model_module_version": "1.2.0",
            "_model_name": "LayoutModel",
            "_view_count": null,
            "_view_module": "@jupyter-widgets/base",
            "_view_module_version": "1.2.0",
            "_view_name": "LayoutView",
            "align_content": null,
            "align_items": null,
            "align_self": null,
            "border": null,
            "bottom": null,
            "display": null,
            "flex": null,
            "flex_flow": null,
            "grid_area": null,
            "grid_auto_columns": null,
            "grid_auto_flow": null,
            "grid_auto_rows": null,
            "grid_column": null,
            "grid_gap": null,
            "grid_row": null,
            "grid_template_areas": null,
            "grid_template_columns": null,
            "grid_template_rows": null,
            "height": null,
            "justify_content": null,
            "justify_items": null,
            "left": null,
            "margin": null,
            "max_height": null,
            "max_width": null,
            "min_height": null,
            "min_width": null,
            "object_fit": null,
            "object_position": null,
            "order": null,
            "overflow": null,
            "overflow_x": null,
            "overflow_y": null,
            "padding": null,
            "right": null,
            "top": null,
            "visibility": null,
            "width": null
          }
        },
        "dd85454ed2e4490393d245c5d5762930": {
          "model_module": "@jupyter-widgets/output",
          "model_name": "OutputModel",
          "model_module_version": "1.0.0",
          "state": {
            "_dom_classes": [],
            "_model_module": "@jupyter-widgets/output",
            "_model_module_version": "1.0.0",
            "_model_name": "OutputModel",
            "_view_count": null,
            "_view_module": "@jupyter-widgets/output",
            "_view_module_version": "1.0.0",
            "_view_name": "OutputView",
            "layout": "IPY_MODEL_e61f8cd310e444af9c8aaa6ff91986a0",
            "msg_id": "",
            "outputs": [
              {
                "output_type": "display_data",
                "data": {
                  "text/plain": "Sampling chain 0, 0 divergences \u001b[32m━━━━━━━━━━━━━━━━━━━━━━━━━━━━━━━━━━━━━━━━\u001b[0m \u001b[35m100%\u001b[0m \u001b[36m0:00:00\u001b[0m / \u001b[33m0:00:44\u001b[0m\n",
                  "text/html": "<pre style=\"white-space:pre;overflow-x:auto;line-height:normal;font-family:Menlo,'DejaVu Sans Mono',consolas,'Courier New',monospace\">Sampling chain 0, 0 divergences <span style=\"color: #008000; text-decoration-color: #008000\">━━━━━━━━━━━━━━━━━━━━━━━━━━━━━━━━━━━━━━━━</span> <span style=\"color: #800080; text-decoration-color: #800080\">100%</span> <span style=\"color: #008080; text-decoration-color: #008080\">0:00:00</span> / <span style=\"color: #808000; text-decoration-color: #808000\">0:00:44</span>\n</pre>\n"
                },
                "metadata": {}
              }
            ]
          }
        },
        "e61f8cd310e444af9c8aaa6ff91986a0": {
          "model_module": "@jupyter-widgets/base",
          "model_name": "LayoutModel",
          "model_module_version": "1.2.0",
          "state": {
            "_model_module": "@jupyter-widgets/base",
            "_model_module_version": "1.2.0",
            "_model_name": "LayoutModel",
            "_view_count": null,
            "_view_module": "@jupyter-widgets/base",
            "_view_module_version": "1.2.0",
            "_view_name": "LayoutView",
            "align_content": null,
            "align_items": null,
            "align_self": null,
            "border": null,
            "bottom": null,
            "display": null,
            "flex": null,
            "flex_flow": null,
            "grid_area": null,
            "grid_auto_columns": null,
            "grid_auto_flow": null,
            "grid_auto_rows": null,
            "grid_column": null,
            "grid_gap": null,
            "grid_row": null,
            "grid_template_areas": null,
            "grid_template_columns": null,
            "grid_template_rows": null,
            "height": null,
            "justify_content": null,
            "justify_items": null,
            "left": null,
            "margin": null,
            "max_height": null,
            "max_width": null,
            "min_height": null,
            "min_width": null,
            "object_fit": null,
            "object_position": null,
            "order": null,
            "overflow": null,
            "overflow_x": null,
            "overflow_y": null,
            "padding": null,
            "right": null,
            "top": null,
            "visibility": null,
            "width": null
          }
        },
        "447b7775aa80420e9fdcb5d83426528f": {
          "model_module": "@jupyter-widgets/output",
          "model_name": "OutputModel",
          "model_module_version": "1.0.0",
          "state": {
            "_dom_classes": [],
            "_model_module": "@jupyter-widgets/output",
            "_model_module_version": "1.0.0",
            "_model_name": "OutputModel",
            "_view_count": null,
            "_view_module": "@jupyter-widgets/output",
            "_view_module_version": "1.0.0",
            "_view_name": "OutputView",
            "layout": "IPY_MODEL_0c55b242f55c474d97e26ceabd91a891",
            "msg_id": "",
            "outputs": [
              {
                "output_type": "display_data",
                "data": {
                  "text/plain": "Sampling chain 1, 0 divergences \u001b[32m━━━━━━━━━━━━━━━━━━━━━━━━━━━━━━━━━━━━━━━━\u001b[0m \u001b[35m100%\u001b[0m \u001b[36m0:00:00\u001b[0m / \u001b[33m0:00:44\u001b[0m\n",
                  "text/html": "<pre style=\"white-space:pre;overflow-x:auto;line-height:normal;font-family:Menlo,'DejaVu Sans Mono',consolas,'Courier New',monospace\">Sampling chain 1, 0 divergences <span style=\"color: #008000; text-decoration-color: #008000\">━━━━━━━━━━━━━━━━━━━━━━━━━━━━━━━━━━━━━━━━</span> <span style=\"color: #800080; text-decoration-color: #800080\">100%</span> <span style=\"color: #008080; text-decoration-color: #008080\">0:00:00</span> / <span style=\"color: #808000; text-decoration-color: #808000\">0:00:44</span>\n</pre>\n"
                },
                "metadata": {}
              }
            ]
          }
        },
        "0c55b242f55c474d97e26ceabd91a891": {
          "model_module": "@jupyter-widgets/base",
          "model_name": "LayoutModel",
          "model_module_version": "1.2.0",
          "state": {
            "_model_module": "@jupyter-widgets/base",
            "_model_module_version": "1.2.0",
            "_model_name": "LayoutModel",
            "_view_count": null,
            "_view_module": "@jupyter-widgets/base",
            "_view_module_version": "1.2.0",
            "_view_name": "LayoutView",
            "align_content": null,
            "align_items": null,
            "align_self": null,
            "border": null,
            "bottom": null,
            "display": null,
            "flex": null,
            "flex_flow": null,
            "grid_area": null,
            "grid_auto_columns": null,
            "grid_auto_flow": null,
            "grid_auto_rows": null,
            "grid_column": null,
            "grid_gap": null,
            "grid_row": null,
            "grid_template_areas": null,
            "grid_template_columns": null,
            "grid_template_rows": null,
            "height": null,
            "justify_content": null,
            "justify_items": null,
            "left": null,
            "margin": null,
            "max_height": null,
            "max_width": null,
            "min_height": null,
            "min_width": null,
            "object_fit": null,
            "object_position": null,
            "order": null,
            "overflow": null,
            "overflow_x": null,
            "overflow_y": null,
            "padding": null,
            "right": null,
            "top": null,
            "visibility": null,
            "width": null
          }
        }
      }
    }
  },
  "cells": [
    {
      "cell_type": "code",
      "execution_count": 13,
      "metadata": {
        "id": "ib15nxPnPBzo"
      },
      "outputs": [],
      "source": [
        "import numpy as np\n",
        "import pandas as pd\n",
        "import pymc as pm\n",
        "from IPython.core.pylabtools import figsize\n",
        "import matplotlib.pyplot as plt"
      ]
    },
    {
      "cell_type": "code",
      "source": [
        "data = pd.read_csv(\"https://raw.githubusercontent.com/dustywhite7/Econ8310/master/AssignmentData/cookie_cats.csv\")\n",
        "\n",
        "observations_A = data[data['version'] == 'gate_30']\n",
        "observations_A1 = observations_A[[\"retention_1\"]].to_numpy().flatten()\n",
        "observations_A7 = observations_A[[\"retention_7\"]].to_numpy().flatten()\n",
        "observations_B = data[data['version'] == 'gate_40']\n",
        "observations_B1 = observations_B[[\"retention_1\"]].to_numpy().flatten()\n",
        "observations_B7 = observations_B[[\"retention_7\"]].to_numpy().flatten()\n",
        "print(\"Ex: Obs from Gate 30 for 1 day retention (Controll) Retention 1: \", observations_A1[:30], \"...\")\n",
        "print(\"Ex: Obs from Gate 30 for 7 day retention (Controll) Retention 1: \", observations_A7[:30], \"...\")\n",
        "print(\"Ex: Obs from Gate 40 for 1 day retention (Test) Retention 1: \", observations_B1[:30], \"...\")\n",
        "print(\"Ex: Obs from Gate 40 for 7 day retention (Test) Retention 1: \", observations_B7[:30], \"...\")"
      ],
      "metadata": {
        "colab": {
          "base_uri": "https://localhost:8080/"
        },
        "id": "RsVmKkjQVisE",
        "outputId": "08a3c03c-5e03-451c-8edd-5b45cc634d5a"
      },
      "execution_count": 14,
      "outputs": [
        {
          "output_type": "stream",
          "name": "stdout",
          "text": [
            "Ex: Obs from Gate 30 for 1 day retention (Controll) Retention 1:  [False  True False False  True  True  True  True  True  True  True False\n",
            " False False False False  True  True False False False False False False\n",
            " False  True False  True  True  True] ...\n",
            "Ex: Obs from Gate 30 for 7 day retention (Controll) Retention 1:  [False False False False False  True False False  True  True False  True\n",
            " False False False False False False False False False False False False\n",
            " False  True False False False False] ...\n",
            "Ex: Obs from Gate 40 for 1 day retention (Test) Retention 1:  [ True False  True  True False  True  True False  True False  True  True\n",
            "  True False  True  True False False False  True  True False  True False\n",
            " False False  True  True False False] ...\n",
            "Ex: Obs from Gate 40 for 7 day retention (Test) Retention 1:  [False False  True  True False  True False  True False False False False\n",
            "  True False  True  True False False False False False False False False\n",
            " False False False False False False] ...\n"
          ]
        }
      ]
    },
    {
      "cell_type": "code",
      "source": [
        "print(\"Obs 1 Day Retention Mean from Gate 30 (Controll): \", np.mean(observations_A1))\n",
        "print(\"           Obs 1 Day Retention Mean from Gate 40: \", np.mean(observations_B1))\n",
        "print(\"Obs 7 Day Retention Mean from Gate 30 (Controll): \", np.mean(observations_A7))\n",
        "print(\"           Obs 7 Day Retention Mean from Gate 40: \", np.mean(observations_B7))"
      ],
      "metadata": {
        "id": "D2ZDussfgKWt",
        "colab": {
          "base_uri": "https://localhost:8080/"
        },
        "outputId": "f9c9094f-ffdc-4a49-cb77-6ffdf700e3ec"
      },
      "execution_count": 15,
      "outputs": [
        {
          "output_type": "stream",
          "name": "stdout",
          "text": [
            "Obs 1 Day Retention Mean from Gate 30 (Controll):  0.4481879194630872\n",
            "           Obs 1 Day Retention Mean from Gate 40:  0.44228274967574577\n",
            "Obs 7 Day Retention Mean from Gate 30 (Controll):  0.19020134228187918\n",
            "           Obs 7 Day Retention Mean from Gate 40:  0.18200004396667327\n"
          ]
        }
      ]
    },
    {
      "cell_type": "code",
      "source": [
        "# Set up the pymc model. Again assume Uniform priors for p_A and p_B.\n",
        "true_p_A = 0.05\n",
        "true_p_B = 0.04\n",
        "\n",
        "with pm.Model() as model:\n",
        "    p_A = pm.Uniform(\"p_A\", 0, 1)\n",
        "    p_B = pm.Uniform(\"p_B\", 0, 1)\n",
        "\n",
        "    # Define the deterministic delta function. This is our unknown of interest.\n",
        "    delta = pm.Deterministic(\"delta\", p_A - p_B)\n",
        "\n",
        "\n",
        "    # Set of observations, in this case we have two observation datasets.\n",
        "    obs_A = pm.Bernoulli(\"obs_A\", p_A, observed=observations_A1)\n",
        "    obs_B = pm.Bernoulli(\"obs_B\", p_B, observed=observations_B1)\n",
        "\n",
        "    # To be explained in chapter 3.\n",
        "    step = pm.Metropolis()\n",
        "    trace = pm.sample(20000, step=step,chains=2)\n",
        "    # if you use return_inferencedata=False, the code below will still work, but for little ArviZ, let's use the default True value.\n",
        "    #burned_trace=trace[1000:]"
      ],
      "metadata": {
        "colab": {
          "base_uri": "https://localhost:8080/",
          "height": 52,
          "referenced_widgets": [
            "54ed4d6ad23f43b88303e5124d102eb8",
            "da3d917c6f67452986fe9bddf5499895",
            "bf6522669bf847c487d400144a0d4b1b",
            "a4384eb938b242be86b6d1f14fdd0611"
          ]
        },
        "id": "2pAp3pMQgOH1",
        "outputId": "d426d099-2413-4701-8b1d-da3f054ab7dd"
      },
      "execution_count": 16,
      "outputs": [
        {
          "output_type": "display_data",
          "data": {
            "text/plain": [
              "Output()"
            ],
            "application/vnd.jupyter.widget-view+json": {
              "version_major": 2,
              "version_minor": 0,
              "model_id": "54ed4d6ad23f43b88303e5124d102eb8"
            }
          },
          "metadata": {}
        },
        {
          "output_type": "display_data",
          "data": {
            "text/plain": [],
            "text/html": [
              "<pre style=\"white-space:pre;overflow-x:auto;line-height:normal;font-family:Menlo,'DejaVu Sans Mono',consolas,'Courier New',monospace\"></pre>\n"
            ]
          },
          "metadata": {}
        },
        {
          "output_type": "display_data",
          "data": {
            "text/plain": [
              "Output()"
            ],
            "application/vnd.jupyter.widget-view+json": {
              "version_major": 2,
              "version_minor": 0,
              "model_id": "bf6522669bf847c487d400144a0d4b1b"
            }
          },
          "metadata": {}
        },
        {
          "output_type": "display_data",
          "data": {
            "text/plain": [],
            "text/html": [
              "<pre style=\"white-space:pre;overflow-x:auto;line-height:normal;font-family:Menlo,'DejaVu Sans Mono',consolas,'Courier New',monospace\"></pre>\n"
            ]
          },
          "metadata": {}
        }
      ]
    },
    {
      "cell_type": "code",
      "source": [
        "p_A_samples =  np.concatenate(trace.posterior.p_A.data[:,1000:])\n",
        "p_B_samples =  np.concatenate(trace.posterior.p_B.data[:,1000:])\n",
        "delta_samples = np.concatenate(trace.posterior.delta.data[:,1000:])"
      ],
      "metadata": {
        "id": "ZomhLbEagQWu"
      },
      "execution_count": 17,
      "outputs": []
    },
    {
      "cell_type": "code",
      "source": [
        "figsize(12.5,10)\n",
        "\n",
        "#histogram of posteriors\n",
        "\n",
        "ax = plt.subplot(311)\n",
        "\n",
        "plt.xlim(0.42, .48)\n",
        "plt.hist(p_A_samples, histtype='stepfilled', bins=25, alpha=0.85,\n",
        "         label=\"posterior of $p_A$\", color=\"#A60628\", density=True)\n",
        "plt.legend(loc=\"upper right\")\n",
        "plt.title(\"Posterior distributions of $p_A$, $p_B$, and delta unknowns\")\n",
        "\n",
        "ax = plt.subplot(312)\n",
        "\n",
        "plt.xlim(0.42, .48)\n",
        "plt.hist(p_B_samples, histtype='stepfilled', bins=25, alpha=0.85,\n",
        "         label=\"posterior of $p_B$\", color=\"#467821\", density=True)\n",
        "plt.legend(loc=\"upper right\")\n",
        "\n",
        "ax = plt.subplot(313)\n",
        "plt.hist(delta_samples, histtype='stepfilled', bins=30, alpha=0.85,\n",
        "         label=\"posterior of delta\", color=\"#7A68A6\", density=True)\n",
        "plt.legend(loc=\"upper right\");"
      ],
      "metadata": {
        "colab": {
          "base_uri": "https://localhost:8080/",
          "height": 855
        },
        "id": "9zhCSJgOgSS1",
        "outputId": "972a1c20-160f-49a6-c310-b617d23387df"
      },
      "execution_count": 18,
      "outputs": [
        {
          "output_type": "display_data",
          "data": {
            "text/plain": [
              "<Figure size 1250x1000 with 3 Axes>"
            ],
            "image/png": "[encoded data removed]"
          },
          "metadata": {}
        }
      ]
    },
    {
      "cell_type": "code",
      "source": [
        "print(\"Probability Gate 30 is WORSE than Gate 40 for 1-day retention: %.3f\" % \\\n",
        "    np.mean(delta_samples < 0))\n",
        "\n",
        "print(\"Probability Gate 30 is BETTER than Gate 40 for 1-day retention: %.3f\" % \\\n",
        "    np.mean(delta_samples > 0))"
      ],
      "metadata": {
        "colab": {
          "base_uri": "https://localhost:8080/"
        },
        "id": "PWe6nilfgVpe",
        "outputId": "43ec488d-55e6-4a5a-9b6c-336810390842"
      },
      "execution_count": 19,
      "outputs": [
        {
          "output_type": "stream",
          "name": "stdout",
          "text": [
            "Probability Gate 30 is WORSE than Gate 40 for 1-day retention: 0.030\n",
            "Probability Gate 30 is BETTER than Gate 40 for 1-day retention: 0.970\n"
          ]
        }
      ]
    },
    {
      "cell_type": "code",
      "source": [
        "# Set up the pymc model. Again assume Uniform priors for p_A and p_B.\n",
        "true_p_A = 0.05\n",
        "true_p_B = 0.04\n",
        "\n",
        "with pm.Model() as model:\n",
        "    p_A = pm.Uniform(\"p_A\", 0, 1)\n",
        "    p_B = pm.Uniform(\"p_B\", 0, 1)\n",
        "\n",
        "    # Define the deterministic delta function. This is our unknown of interest.\n",
        "    delta = pm.Deterministic(\"delta\", p_A - p_B)\n",
        "\n",
        "\n",
        "    # Set of observations, in this case we have two observation datasets.\n",
        "    obs_A = pm.Bernoulli(\"obs_A\", p_A, observed=observations_A7)\n",
        "    obs_B = pm.Bernoulli(\"obs_B\", p_B, observed=observations_B7)\n",
        "\n",
        "    # To be explained in chapter 3.\n",
        "    step = pm.Metropolis()\n",
        "    trace = pm.sample(20000, step=step,chains=2)\n",
        "    # if you use return_inferencedata=False, the code below will still work, but for little ArviZ, let's use the default True value.\n",
        "    #burned_trace=trace[1000:]"
      ],
      "metadata": {
        "colab": {
          "base_uri": "https://localhost:8080/",
          "height": 104,
          "referenced_widgets": [
            "dd85454ed2e4490393d245c5d5762930",
            "e61f8cd310e444af9c8aaa6ff91986a0",
            "447b7775aa80420e9fdcb5d83426528f",
            "0c55b242f55c474d97e26ceabd91a891"
          ]
        },
        "id": "Zv5b9LqGBquO",
        "outputId": "90c788c2-a6bd-4437-debe-d99578d6eb32"
      },
      "execution_count": 20,
      "outputs": [
        {
          "output_type": "display_data",
          "data": {
            "text/plain": [
              "Output()"
            ],
            "application/vnd.jupyter.widget-view+json": {
              "version_major": 2,
              "version_minor": 0,
              "model_id": "dd85454ed2e4490393d245c5d5762930"
            }
          },
          "metadata": {}
        },
        {
          "output_type": "display_data",
          "data": {
            "text/plain": [
              "/usr/local/lib/python3.10/dist-packages/pymc/step_methods/metropolis.py:313: RuntimeWarning: overflow encountered \n",
              "in exp\n",
              "  \"accept\": np.mean(np.exp(self.accept_rate_iter)),\n"
            ],
            "text/html": [
              "<pre style=\"white-space:pre;overflow-x:auto;line-height:normal;font-family:Menlo,'DejaVu Sans Mono',consolas,'Courier New',monospace\">/usr/local/lib/python3.10/dist-packages/pymc/step_methods/metropolis.py:313: RuntimeWarning: overflow encountered \n",
              "in exp\n",
              "  \"accept\": np.mean(np.exp(self.accept_rate_iter)),\n",
              "</pre>\n"
            ]
          },
          "metadata": {}
        },
        {
          "output_type": "display_data",
          "data": {
            "text/plain": [],
            "text/html": [
              "<pre style=\"white-space:pre;overflow-x:auto;line-height:normal;font-family:Menlo,'DejaVu Sans Mono',consolas,'Courier New',monospace\"></pre>\n"
            ]
          },
          "metadata": {}
        },
        {
          "output_type": "display_data",
          "data": {
            "text/plain": [
              "Output()"
            ],
            "application/vnd.jupyter.widget-view+json": {
              "version_major": 2,
              "version_minor": 0,
              "model_id": "447b7775aa80420e9fdcb5d83426528f"
            }
          },
          "metadata": {}
        },
        {
          "output_type": "display_data",
          "data": {
            "text/plain": [],
            "text/html": [
              "<pre style=\"white-space:pre;overflow-x:auto;line-height:normal;font-family:Menlo,'DejaVu Sans Mono',consolas,'Courier New',monospace\"></pre>\n"
            ]
          },
          "metadata": {}
        }
      ]
    },
    {
      "cell_type": "code",
      "source": [
        "p_A_samples =  np.concatenate(trace.posterior.p_A.data[:,1000:])\n",
        "p_B_samples =  np.concatenate(trace.posterior.p_B.data[:,1000:])\n",
        "delta_samples = np.concatenate(trace.posterior.delta.data[:,1000:])"
      ],
      "metadata": {
        "id": "1BRzGJxJBw63"
      },
      "execution_count": 21,
      "outputs": []
    },
    {
      "cell_type": "code",
      "source": [
        "figsize(12.5,10)\n",
        "\n",
        "#histogram of posteriors\n",
        "\n",
        "ax = plt.subplot(311)\n",
        "\n",
        "plt.xlim(0.15, 0.21)\n",
        "plt.hist(p_A_samples, histtype='stepfilled', bins=25, alpha=0.85,\n",
        "         label=\"posterior of $p_A$\", color=\"#A60628\", density=True)\n",
        "plt.legend(loc=\"upper right\")\n",
        "plt.title(\"Posterior distributions of $p_A$, $p_B$, and delta unknowns\")\n",
        "\n",
        "ax = plt.subplot(312)\n",
        "\n",
        "plt.xlim(0.15, 0.21)\n",
        "plt.hist(p_B_samples, histtype='stepfilled', bins=25, alpha=0.85,\n",
        "         label=\"posterior of $p_B$\", color=\"#467821\", density=True)\n",
        "plt.legend(loc=\"upper right\")\n",
        "\n",
        "ax = plt.subplot(313)\n",
        "plt.hist(delta_samples, histtype='stepfilled', bins=30, alpha=0.85,\n",
        "         label=\"posterior of delta\", color=\"#7A68A6\", density=True)\n",
        "plt.legend(loc=\"upper right\");"
      ],
      "metadata": {
        "colab": {
          "base_uri": "https://localhost:8080/",
          "height": 855
        },
        "id": "dAOO9kHxB11E",
        "outputId": "03cd3cff-cef7-45fa-bd2d-5c3d07b06855"
      },
      "execution_count": 25,
      "outputs": [
        {
          "output_type": "display_data",
          "data": {
            "text/plain": [
              "<Figure size 1250x1000 with 3 Axes>"
            ],
            "image/png": "[encoded data removed]"
          },
          "metadata": {}
        }
      ]
    },
    {
      "cell_type": "code",
      "source": [
        "print(\"Probability Gate 30 is WORSE than Gate 40 for 7-day retention: %.3f\" % \\\n",
        "    np.mean(delta_samples < 0))\n",
        "\n",
        "print(\"Probability Gate 30 is BETTER than Gate 40 for 7-day retention: %.3f\" % \\\n",
        "    np.mean(delta_samples > 0))"
      ],
      "metadata": {
        "colab": {
          "base_uri": "https://localhost:8080/"
        },
        "id": "CHcPsoxeB6fU",
        "outputId": "bc5e4f36-f491-4eaf-cc27-0ec89a004fab"
      },
      "execution_count": 26,
      "outputs": [
        {
          "output_type": "stream",
          "name": "stdout",
          "text": [
            "Probability Gate 30 is WORSE than Gate 40 for 7-day retention: 0.001\n",
            "Probability Gate 30 is BETTER than Gate 40 for 7-day retention: 0.999\n"
          ]
        }
      ]
    }
  ]
}